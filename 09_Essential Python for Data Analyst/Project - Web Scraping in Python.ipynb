{
 "cells": [
  {
   "cell_type": "code",
   "execution_count": 2,
   "metadata": {},
   "outputs": [
    {
     "name": "stdout",
     "output_type": "stream",
     "text": [
      "Collecting gazpacho\n",
      "  Downloading gazpacho-1.1.tar.gz (7.9 kB)\n",
      "  Installing build dependencies: started\n",
      "  Installing build dependencies: finished with status 'done'\n",
      "  Getting requirements to build wheel: started\n",
      "  Getting requirements to build wheel: finished with status 'done'\n",
      "  Preparing metadata (pyproject.toml): started\n",
      "  Preparing metadata (pyproject.toml): finished with status 'done'\n",
      "Building wheels for collected packages: gazpacho\n",
      "  Building wheel for gazpacho (pyproject.toml): started\n",
      "  Building wheel for gazpacho (pyproject.toml): finished with status 'done'\n",
      "  Created wheel for gazpacho: filename=gazpacho-1.1-py3-none-any.whl size=7485 sha256=7e7b213bb291cf89914fd9e94e8551c1100efc4aadd71a696301f5b8bd5dbe97\n",
      "  Stored in directory: c:\\users\\admin\\appdata\\local\\pip\\cache\\wheels\\f4\\e6\\e3\\d9a9b3f1dc045ee40c507cd630daa6cdd41b239633e92d5457\n",
      "Successfully built gazpacho\n",
      "Installing collected packages: gazpacho\n",
      "Successfully installed gazpacho-1.1\n"
     ]
    }
   ],
   "source": [
    "# # install gazpacho on our machine\n",
    "# !pip install gazpacho"
   ]
  },
  {
   "cell_type": "code",
   "execution_count": 155,
   "metadata": {},
   "outputs": [],
   "source": [
    "# import library\n",
    "from gazpacho import get, Soup\n",
    "import pandas as pd"
   ]
  },
  {
   "cell_type": "code",
   "execution_count": 11,
   "metadata": {},
   "outputs": [],
   "source": [
    "# skooldio medium website\n",
    "url = \"https://en.wikipedia.org/wiki/List_of_plants_used_in_herbalism\""
   ]
  },
  {
   "cell_type": "code",
   "execution_count": 28,
   "metadata": {},
   "outputs": [
    {
     "data": {
      "text/plain": [
       "200"
      ]
     },
     "execution_count": 28,
     "metadata": {},
     "output_type": "execute_result"
    }
   ],
   "source": [
    "response = get(url)\n",
    "response.status_code"
   ]
  },
  {
   "cell_type": "code",
   "execution_count": 85,
   "metadata": {},
   "outputs": [],
   "source": [
    "web = Soup(response.text)"
   ]
  },
  {
   "cell_type": "code",
   "execution_count": 45,
   "metadata": {},
   "outputs": [],
   "source": [
    "tables = web.find(\"table\", {\"class\": \"wikitable\"})"
   ]
  },
  {
   "cell_type": "code",
   "execution_count": 124,
   "metadata": {},
   "outputs": [
    {
     "name": "stdout",
     "output_type": "stream",
     "text": [
      "['Scientific name', 'Common name', 'Description', 'Picture']\n"
     ]
    }
   ],
   "source": [
    "titles = [header.text for header in tables[0].find('th')]\n",
    "print(titles)"
   ]
  },
  {
   "cell_type": "code",
   "execution_count": 163,
   "metadata": {},
   "outputs": [],
   "source": [
    "titles = [header.text for header in tables[0].find('th')]"
   ]
  },
  {
   "cell_type": "code",
   "execution_count": 164,
   "metadata": {},
   "outputs": [],
   "source": [
    "def parse(plant):\n",
    "    sci_name = plant.find('td')[0].text\n",
    "    common_name = plant.find('td')[1].text\n",
    "    des = plant.find('td')[2].text\n",
    "    return [sci_name, common_name, des]\n",
    "\n",
    "plants = tables[0].find('tr')[1:]\n",
    "rows = [parse(plant) for plant in plants]"
   ]
  },
  {
   "cell_type": "code",
   "execution_count": 166,
   "metadata": {},
   "outputs": [
    {
     "data": {
      "text/html": [
       "<div>\n",
       "<style scoped>\n",
       "    .dataframe tbody tr th:only-of-type {\n",
       "        vertical-align: middle;\n",
       "    }\n",
       "\n",
       "    .dataframe tbody tr th {\n",
       "        vertical-align: top;\n",
       "    }\n",
       "\n",
       "    .dataframe thead th {\n",
       "        text-align: right;\n",
       "    }\n",
       "</style>\n",
       "<table border=\"1\" class=\"dataframe\">\n",
       "  <thead>\n",
       "    <tr style=\"text-align: right;\">\n",
       "      <th></th>\n",
       "      <th>Scientific name</th>\n",
       "      <th>Common name</th>\n",
       "      <th>Description</th>\n",
       "    </tr>\n",
       "  </thead>\n",
       "  <tbody>\n",
       "    <tr>\n",
       "      <th>0</th>\n",
       "      <td>Acacia senegal</td>\n",
       "      <td>Gum arabic</td>\n",
       "      <td>A natural gum sourced from hardened sap of var...</td>\n",
       "    </tr>\n",
       "    <tr>\n",
       "      <th>1</th>\n",
       "      <td>Achillea millefolium</td>\n",
       "      <td>Common yarrow</td>\n",
       "      <td>Purported to be a</td>\n",
       "    </tr>\n",
       "    <tr>\n",
       "      <th>2</th>\n",
       "      <td>Actaea racemosa</td>\n",
       "      <td>Black cohosh</td>\n",
       "      <td>Historically used for</td>\n",
       "    </tr>\n",
       "    <tr>\n",
       "      <th>3</th>\n",
       "      <td>Aesculus hippocastanum</td>\n",
       "      <td>Horse chestnut</td>\n",
       "      <td>Its seeds, leaves, bark, and flowers have been...</td>\n",
       "    </tr>\n",
       "    <tr>\n",
       "      <th>4</th>\n",
       "      <td>Ageratina altissima</td>\n",
       "      <td>White snakeroot</td>\n",
       "      <td>Root tea has been used to treat</td>\n",
       "    </tr>\n",
       "    <tr>\n",
       "      <th>5</th>\n",
       "      <td>Alcea rosea</td>\n",
       "      <td>Common hollyhock</td>\n",
       "      <td>Believed to be an</td>\n",
       "    </tr>\n",
       "    <tr>\n",
       "      <th>6</th>\n",
       "      <td>Alisma plantago-aquatica</td>\n",
       "      <td>Water-plantain</td>\n",
       "      <td>Used for the urinary tract.</td>\n",
       "    </tr>\n",
       "    <tr>\n",
       "      <th>7</th>\n",
       "      <td>Allium sativum</td>\n",
       "      <td>Garlic</td>\n",
       "      <td>Purported use to lower</td>\n",
       "    </tr>\n",
       "    <tr>\n",
       "      <th>8</th>\n",
       "      <td>Aloe vera</td>\n",
       "      <td>Aloe vera</td>\n",
       "      <td>Leaves are widely used to</td>\n",
       "    </tr>\n",
       "    <tr>\n",
       "      <th>9</th>\n",
       "      <td>Althaea officinalis</td>\n",
       "      <td>Marsh-mallow</td>\n",
       "      <td>Used historically as both a food and a medicine.</td>\n",
       "    </tr>\n",
       "    <tr>\n",
       "      <th>10</th>\n",
       "      <td>Amorphophallus konjac</td>\n",
       "      <td>Konjac</td>\n",
       "      <td>Significant dietary source of</td>\n",
       "    </tr>\n",
       "    <tr>\n",
       "      <th>11</th>\n",
       "      <td>Anemone hepatica</td>\n",
       "      <td>Common hepatica</td>\n",
       "      <td>Historically used to treat liver diseases, it ...</td>\n",
       "    </tr>\n",
       "    <tr>\n",
       "      <th>12</th>\n",
       "      <td>Angelica archangelica</td>\n",
       "      <td>Garden angelica</td>\n",
       "      <td>Roots have been used in the traditional Austri...</td>\n",
       "    </tr>\n",
       "    <tr>\n",
       "      <th>13</th>\n",
       "      <td>Angelica sinensis</td>\n",
       "      <td>Dong quai</td>\n",
       "      <td>Used for thousands of years in Asia, primarily...</td>\n",
       "    </tr>\n",
       "    <tr>\n",
       "      <th>14</th>\n",
       "      <td>Apium graveolens</td>\n",
       "      <td>Celery</td>\n",
       "      <td>Seed is used only occasionally in tradition me...</td>\n",
       "    </tr>\n",
       "    <tr>\n",
       "      <th>15</th>\n",
       "      <td>Arctium lappa</td>\n",
       "      <td>Burdock</td>\n",
       "      <td>Used traditionally as a</td>\n",
       "    </tr>\n",
       "    <tr>\n",
       "      <th>16</th>\n",
       "      <td>Arnica montana</td>\n",
       "      <td>Arnica</td>\n",
       "      <td>Used as an</td>\n",
       "    </tr>\n",
       "    <tr>\n",
       "      <th>17</th>\n",
       "      <td>Astragalus propinquus</td>\n",
       "      <td>Astragalus</td>\n",
       "      <td>Long used in</td>\n",
       "    </tr>\n",
       "    <tr>\n",
       "      <th>18</th>\n",
       "      <td>Atropa belladonna</td>\n",
       "      <td>Belladonna</td>\n",
       "      <td>Although toxic, was used historically in</td>\n",
       "    </tr>\n",
       "    <tr>\n",
       "      <th>19</th>\n",
       "      <td>Azadirachta indica</td>\n",
       "      <td>Neem</td>\n",
       "      <td>Used in India to treat worms,</td>\n",
       "    </tr>\n",
       "  </tbody>\n",
       "</table>\n",
       "</div>"
      ],
      "text/plain": [
       "             Scientific name       Common name  \\\n",
       "0             Acacia senegal        Gum arabic   \n",
       "1       Achillea millefolium     Common yarrow   \n",
       "2            Actaea racemosa      Black cohosh   \n",
       "3     Aesculus hippocastanum    Horse chestnut   \n",
       "4        Ageratina altissima   White snakeroot   \n",
       "5                Alcea rosea  Common hollyhock   \n",
       "6   Alisma plantago-aquatica    Water-plantain   \n",
       "7             Allium sativum            Garlic   \n",
       "8                  Aloe vera         Aloe vera   \n",
       "9        Althaea officinalis      Marsh-mallow   \n",
       "10     Amorphophallus konjac            Konjac   \n",
       "11          Anemone hepatica   Common hepatica   \n",
       "12     Angelica archangelica   Garden angelica   \n",
       "13         Angelica sinensis         Dong quai   \n",
       "14          Apium graveolens            Celery   \n",
       "15             Arctium lappa           Burdock   \n",
       "16            Arnica montana            Arnica   \n",
       "17     Astragalus propinquus        Astragalus   \n",
       "18         Atropa belladonna        Belladonna   \n",
       "19        Azadirachta indica              Neem   \n",
       "\n",
       "                                          Description  \n",
       "0   A natural gum sourced from hardened sap of var...  \n",
       "1                                   Purported to be a  \n",
       "2                               Historically used for  \n",
       "3   Its seeds, leaves, bark, and flowers have been...  \n",
       "4                     Root tea has been used to treat  \n",
       "5                                   Believed to be an  \n",
       "6                         Used for the urinary tract.  \n",
       "7                              Purported use to lower  \n",
       "8                           Leaves are widely used to  \n",
       "9    Used historically as both a food and a medicine.  \n",
       "10                      Significant dietary source of  \n",
       "11  Historically used to treat liver diseases, it ...  \n",
       "12  Roots have been used in the traditional Austri...  \n",
       "13  Used for thousands of years in Asia, primarily...  \n",
       "14  Seed is used only occasionally in tradition me...  \n",
       "15                            Used traditionally as a  \n",
       "16                                         Used as an  \n",
       "17                                       Long used in  \n",
       "18           Although toxic, was used historically in  \n",
       "19                      Used in India to treat worms,  "
      ]
     },
     "execution_count": 166,
     "metadata": {},
     "output_type": "execute_result"
    }
   ],
   "source": [
    "df = pd.DataFrame(rows, columns=titles[:3])\n",
    "df"
   ]
  },
  {
   "cell_type": "code",
   "execution_count": null,
   "metadata": {},
   "outputs": [],
   "source": []
  }
 ],
 "metadata": {
  "kernelspec": {
   "display_name": "base",
   "language": "python",
   "name": "python3"
  },
  "language_info": {
   "codemirror_mode": {
    "name": "ipython",
    "version": 3
   },
   "file_extension": ".py",
   "mimetype": "text/x-python",
   "name": "python",
   "nbconvert_exporter": "python",
   "pygments_lexer": "ipython3",
   "version": "3.11.5"
  }
 },
 "nbformat": 4,
 "nbformat_minor": 2
}
