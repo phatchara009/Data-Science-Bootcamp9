{
 "cells": [
  {
   "cell_type": "code",
   "execution_count": 93,
   "metadata": {},
   "outputs": [],
   "source": [
    "# pip install pyodbc"
   ]
  },
  {
   "cell_type": "code",
   "execution_count": 2,
   "metadata": {},
   "outputs": [],
   "source": [
    "import pandas as pd\n",
    "import pyodbc\n",
    "import os"
   ]
  },
  {
   "cell_type": "code",
   "execution_count": 8,
   "metadata": {},
   "outputs": [],
   "source": [
    "# Define the parameters for connect to SQL Server database\n",
    "driver_name = \"ODBC Driver 17 for SQL Server\"\n",
    "server_name = 'TIT-20230930FXD\\\\SQLEXPRESS'\n",
    "database_name = 'brazilian_ecommerce' # database_name = 'master'\n",
    "trusted_connection = 'yes'\n",
    "\n",
    "# Define connection string\n",
    "conn_str = f'DRIVER={driver_name};SERVER={server_name};DATABASE={database_name};Trusted_Connection={trusted_connection}'"
   ]
  },
  {
   "cell_type": "code",
   "execution_count": 9,
   "metadata": {},
   "outputs": [
    {
     "data": {
      "text/plain": [
       "geolocation_zip_code_prefix      int64\n",
       "geolocation_lat                float64\n",
       "geolocation_lng                float64\n",
       "geolocation_city                object\n",
       "geolocation_state               object\n",
       "dtype: object"
      ]
     },
     "execution_count": 9,
     "metadata": {},
     "output_type": "execute_result"
    }
   ],
   "source": [
    "# อ่านข้อมูลจากไฟล์ CSV โดยใช้ pandas\n",
    "df = pd.read_csv(r'data\\\\olist_geolocation_dataset.csv')\n",
    "df.dtypes"
   ]
  },
  {
   "cell_type": "code",
   "execution_count": 10,
   "metadata": {},
   "outputs": [
    {
     "data": {
      "text/plain": [
       "Index(['geolocation_zip_code_prefix', 'geolocation_lat', 'geolocation_lng',\n",
       "       'geolocation_city', 'geolocation_state'],\n",
       "      dtype='object')"
      ]
     },
     "execution_count": 10,
     "metadata": {},
     "output_type": "execute_result"
    }
   ],
   "source": [
    "df.columns"
   ]
  },
  {
   "cell_type": "code",
   "execution_count": 11,
   "metadata": {},
   "outputs": [],
   "source": [
    "df[\"geolocation_zip_code_prefix\"] = df[\"geolocation_zip_code_prefix\"].astype(object)"
   ]
  },
  {
   "cell_type": "code",
   "execution_count": 12,
   "metadata": {},
   "outputs": [],
   "source": [
    "df.drop_duplicates(inplace=True)"
   ]
  },
  {
   "cell_type": "code",
   "execution_count": 13,
   "metadata": {},
   "outputs": [
    {
     "name": "stdout",
     "output_type": "stream",
     "text": [
      "<class 'pandas.core.frame.DataFrame'>\n",
      "Index: 738332 entries, 0 to 1000161\n",
      "Data columns (total 5 columns):\n",
      " #   Column                       Non-Null Count   Dtype  \n",
      "---  ------                       --------------   -----  \n",
      " 0   geolocation_zip_code_prefix  738332 non-null  object \n",
      " 1   geolocation_lat              738332 non-null  float64\n",
      " 2   geolocation_lng              738332 non-null  float64\n",
      " 3   geolocation_city             738332 non-null  object \n",
      " 4   geolocation_state            738332 non-null  object \n",
      "dtypes: float64(2), object(3)\n",
      "memory usage: 33.8+ MB\n"
     ]
    }
   ],
   "source": [
    "df.info()"
   ]
  },
  {
   "cell_type": "code",
   "execution_count": 14,
   "metadata": {},
   "outputs": [],
   "source": [
    "# sql_cmd = \"\"\"\n",
    "#     CREATE TABLE geolocation(    \n",
    "#         geolocation_zip_code_prefix VARCHAR(255),\n",
    "#         geolocation_lat VARCHAR(255),\n",
    "#         geolocation_lng VARCHAR(255),\n",
    "#         geolocation_city VARCHAR(255),\n",
    "#         geolocation_state VARCHAR(255)\n",
    "#     );\n",
    "# \"\"\"\n",
    "\n",
    "# with pyodbc.connect(conn_str) as con:\n",
    "#     con.execute(sql_cmd)"
   ]
  },
  {
   "cell_type": "code",
   "execution_count": 15,
   "metadata": {},
   "outputs": [],
   "source": [
    "# กำหนดคำสั่ง SQL เพื่อ truncate ตาราง\n",
    "truncate_query = '''\n",
    "    TRUNCATE TABLE geolocation\n",
    "'''\n",
    "\n",
    "# Execute คำสั่ง SQL เพื่อ truncate ตาราง\n",
    "with pyodbc.connect(conn_str).cursor() as cursor:\n",
    "    cursor.execute(truncate_query)\n",
    "    \n",
    "pyodbc.connect(conn_str).commit()"
   ]
  },
  {
   "cell_type": "code",
   "execution_count": 17,
   "metadata": {},
   "outputs": [],
   "source": [
    "with pyodbc.connect(conn_str) as con:\n",
    "    cursor = con.cursor()\n",
    "    for index, row in df.iterrows():\n",
    "        insert_query = \"\"\"\n",
    "            INSERT INTO geolocation\n",
    "            VALUES (?, ?, ?, ?, ?)\n",
    "        \"\"\"\n",
    "        # Execute คำสั่ง SQL เพื่อเพิ่มข้อมูล\n",
    "        cursor.execute(insert_query, tuple(row))\n",
    "    con.commit()"
   ]
  },
  {
   "cell_type": "code",
   "execution_count": 18,
   "metadata": {},
   "outputs": [
    {
     "name": "stderr",
     "output_type": "stream",
     "text": [
      "C:\\Users\\Admin\\AppData\\Local\\Temp\\ipykernel_6740\\2709571292.py:2: UserWarning: pandas only supports SQLAlchemy connectable (engine/connection) or database string URI or sqlite3 DBAPI2 connection. Other DBAPI2 objects are not tested. Please consider using SQLAlchemy.\n",
      "  df_query = pd.read_sql(\"SELECT * FROM geolocation\", conn)\n"
     ]
    },
    {
     "name": "stdout",
     "output_type": "stream",
     "text": [
      "<class 'pandas.core.frame.DataFrame'>\n",
      "RangeIndex: 738332 entries, 0 to 738331\n",
      "Data columns (total 5 columns):\n",
      " #   Column                       Non-Null Count   Dtype \n",
      "---  ------                       --------------   ----- \n",
      " 0   geolocation_zip_code_prefix  738332 non-null  object\n",
      " 1   geolocation_lat              738332 non-null  object\n",
      " 2   geolocation_lng              738332 non-null  object\n",
      " 3   geolocation_city             738332 non-null  object\n",
      " 4   geolocation_state            738332 non-null  object\n",
      "dtypes: object(5)\n",
      "memory usage: 28.2+ MB\n"
     ]
    }
   ],
   "source": [
    "with pyodbc.connect(conn_str) as con:\n",
    "    df_query = pd.read_sql(\"SELECT * FROM geolocation\", con)\n",
    "    \n",
    "df_query.info()"
   ]
  },
  {
   "cell_type": "code",
   "execution_count": null,
   "metadata": {},
   "outputs": [],
   "source": []
  }
 ],
 "metadata": {
  "kernelspec": {
   "display_name": "Python 3",
   "language": "python",
   "name": "python3"
  },
  "language_info": {
   "codemirror_mode": {
    "name": "ipython",
    "version": 3
   },
   "file_extension": ".py",
   "mimetype": "text/x-python",
   "name": "python",
   "nbconvert_exporter": "python",
   "pygments_lexer": "ipython3",
   "version": "3.12.2"
  }
 },
 "nbformat": 4,
 "nbformat_minor": 2
}
