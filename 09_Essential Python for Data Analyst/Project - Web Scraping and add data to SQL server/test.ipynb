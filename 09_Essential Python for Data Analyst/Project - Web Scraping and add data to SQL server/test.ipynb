{
 "cells": [
  {
   "cell_type": "code",
   "execution_count": 21,
   "metadata": {},
   "outputs": [],
   "source": [
    "import sys\n",
    "import os\n",
    "from selenium import webdriver\n",
    "from selenium.webdriver.common.by import By\n",
    "import time\n",
    "import requests\n",
    "from bs4 import BeautifulSoup\n",
    "import pandas as pd"
   ]
  },
  {
   "cell_type": "code",
   "execution_count": 22,
   "metadata": {},
   "outputs": [
    {
     "name": "stderr",
     "output_type": "stream",
     "text": [
      "C:\\Users\\USER\\AppData\\Local\\Temp\\ipykernel_23348\\469718496.py:3: DeprecationWarning: executable_path has been deprecated, please pass in a Service object\n",
      "  driver = webdriver.Chrome(chrome_driver_path)\n"
     ]
    }
   ],
   "source": [
    "# Step 1: Initialize Chrome driver\n",
    "chrome_driver_path = 'chromedriver.exe'\n",
    "driver = webdriver.Chrome(chrome_driver_path)\n",
    "driver.get('https://datawarehouse.dbd.go.th/searchJuristicInfo/47732/submitObjCode/1')"
   ]
  },
  {
   "cell_type": "code",
   "execution_count": 23,
   "metadata": {},
   "outputs": [],
   "source": [
    "click_out = driver.find_element(By.XPATH, '/html/body/div[9]/div/div/div/div[1]/div[2]/div[1]/button')\n",
    "click_out.click()\n",
    "time.sleep(2)"
   ]
  },
  {
   "cell_type": "code",
   "execution_count": 24,
   "metadata": {},
   "outputs": [],
   "source": [
    "click_out_2 = driver.find_element(By.XPATH, '/html/body/div[5]/div/div/div/div[3]/button')\n",
    "click_out_2.click()\n",
    "time.sleep(2)"
   ]
  },
  {
   "cell_type": "code",
   "execution_count": 25,
   "metadata": {},
   "outputs": [],
   "source": [
    "search = driver.find_element(By.XPATH, '/html/body/div[2]/div[2]/div/div/form/div/input')\n",
    "search.send_keys(47732)\n",
    "time.sleep(3)"
   ]
  },
  {
   "cell_type": "code",
   "execution_count": 26,
   "metadata": {},
   "outputs": [],
   "source": [
    "click_button = driver.find_element(By.XPATH, '/html/body/div[2]/div[2]/div/div/form/div/span')\n",
    "click_button.click()\n",
    "time.sleep(10)"
   ]
  },
  {
   "cell_type": "code",
   "execution_count": 28,
   "metadata": {},
   "outputs": [],
   "source": [
    "click_out_3 = driver.find_element(By.XPATH, '/html/body/div[2]/div[2]/div/div[2]/div[4]/ul/li/a')\n",
    "click_out_3.click()\n",
    "time.sleep(10)"
   ]
  },
  {
   "cell_type": "code",
   "execution_count": 29,
   "metadata": {},
   "outputs": [],
   "source": [
    "click_out_4 = driver.find_element(By.XPATH, '/html/body/div[2]/div[2]/div/div[2]/div[2]/div[2]/div/table/tbody/tr/td[4]')\n",
    "click_out_4.click()\n",
    "time.sleep(24)"
   ]
  },
  {
   "cell_type": "code",
   "execution_count": 30,
   "metadata": {},
   "outputs": [
    {
     "name": "stdout",
     "output_type": "stream",
     "text": [
      "   1  0105554051200   อินเตอร์โกลด์ โกลด์เทรด จำกัด  483,506,763,726.39\n",
      "0  1  0105554051200   อินเตอร์โกลด์ โกลด์เทรด จำกัด  483,506,763,726.39\n",
      "1  2  0105553020335          ออโรร่า เทรดดิ้ง จำกัด  316,626,093,760.71\n",
      "2  3  0105546153732                  ออสสิริส จำกัด  158,176,099,976.45\n",
      "3  4  0105559104085    เบสตั้น โกลด์ เทรดดิ้ง จำกัด  147,948,566,628.50\n",
      "4  5  0105559166552  วี อาร์ เค เพาเวอร์โกลด์ จำกัด   86,145,044,444.28\n"
     ]
    }
   ],
   "source": [
    "# Find the table using its XPath\n",
    "table_element = driver.find_element(By.XPATH, '/html/body/div[2]/div[2]/div/div[2]/div[1]/div[2]/div[2]/div[2]/div/div/div[2]/div/div/div/div')\n",
    "\n",
    "# Get the HTML content of the table\n",
    "table_html = table_element.get_attribute('outerHTML')\n",
    "\n",
    "# Parse the HTML content with BeautifulSoup\n",
    "soup = BeautifulSoup(table_html, 'html.parser')\n",
    "\n",
    "# Extract the table data\n",
    "table_rows = soup.find_all('tr')\n",
    "table_data = []\n",
    "for row in table_rows:\n",
    "    row_data = [cell.text.strip() for cell in row.find_all('td')]\n",
    "    table_data.append(row_data)\n",
    "\n",
    "# Convert the table data into a DataFrame\n",
    "df_1 = pd.DataFrame(table_data[1:], columns=table_data[1])\n",
    "\n",
    "# Print the DataFrame\n",
    "print(df_1)"
   ]
  },
  {
   "cell_type": "code",
   "execution_count": 31,
   "metadata": {},
   "outputs": [],
   "source": [
    "# Find the table using its XPath\n",
    "table_element = driver.find_element(By.XPATH, '/html/body/div[2]/div[2]/div/div[2]/div[1]/div[2]/div[2]/div[2]/div/div/div[2]/div/div/div/div')"
   ]
  },
  {
   "cell_type": "code",
   "execution_count": 32,
   "metadata": {},
   "outputs": [
    {
     "name": "stdout",
     "output_type": "stream",
     "text": [
      "  ลำดับ     เลขทะเบียน                   ชื่อนิติบุคคล     รายได้รวม (บาท)\n",
      "0     1  0105554051200   อินเตอร์โกลด์ โกลด์เทรด จำกัด  483,506,763,726.39\n",
      "1     2  0105553020335          ออโรร่า เทรดดิ้ง จำกัด  316,626,093,760.71\n",
      "2     3  0105546153732                  ออสสิริส จำกัด  158,176,099,976.45\n",
      "3     4  0105559104085    เบสตั้น โกลด์ เทรดดิ้ง จำกัด  147,948,566,628.50\n",
      "4     5  0105559166552  วี อาร์ เค เพาเวอร์โกลด์ จำกัด   86,145,044,444.28\n"
     ]
    }
   ],
   "source": [
    "# Find all table rows including headers\n",
    "table_rows = soup.find_all('tr')\n",
    "\n",
    "# Extract table headers\n",
    "table_headers = table_rows[0].find_all('th')\n",
    "headers = [header.text.strip() for header in table_headers]\n",
    "\n",
    "# Extract table data\n",
    "table_data = []\n",
    "for row in table_rows[1:]:\n",
    "    row_data = [cell.text.strip() for cell in row.find_all('td')]\n",
    "    table_data.append(row_data)\n",
    "\n",
    "# Create DataFrame\n",
    "df = pd.DataFrame(table_data, columns=headers)\n",
    "print(df)"
   ]
  },
  {
   "cell_type": "code",
   "execution_count": 33,
   "metadata": {},
   "outputs": [
    {
     "data": {
      "text/html": [
       "<div>\n",
       "<style scoped>\n",
       "    .dataframe tbody tr th:only-of-type {\n",
       "        vertical-align: middle;\n",
       "    }\n",
       "\n",
       "    .dataframe tbody tr th {\n",
       "        vertical-align: top;\n",
       "    }\n",
       "\n",
       "    .dataframe thead th {\n",
       "        text-align: right;\n",
       "    }\n",
       "</style>\n",
       "<table border=\"1\" class=\"dataframe\">\n",
       "  <thead>\n",
       "    <tr style=\"text-align: right;\">\n",
       "      <th></th>\n",
       "      <th>ลำดับ</th>\n",
       "      <th>เลขทะเบียน</th>\n",
       "      <th>ชื่อนิติบุคคล</th>\n",
       "      <th>รายได้รวม (บาท)</th>\n",
       "    </tr>\n",
       "  </thead>\n",
       "  <tbody>\n",
       "    <tr>\n",
       "      <th>0</th>\n",
       "      <td>1</td>\n",
       "      <td>0105554051200</td>\n",
       "      <td>อินเตอร์โกลด์ โกลด์เทรด จำกัด</td>\n",
       "      <td>483,506,763,726.39</td>\n",
       "    </tr>\n",
       "    <tr>\n",
       "      <th>1</th>\n",
       "      <td>2</td>\n",
       "      <td>0105553020335</td>\n",
       "      <td>ออโรร่า เทรดดิ้ง จำกัด</td>\n",
       "      <td>316,626,093,760.71</td>\n",
       "    </tr>\n",
       "    <tr>\n",
       "      <th>2</th>\n",
       "      <td>3</td>\n",
       "      <td>0105546153732</td>\n",
       "      <td>ออสสิริส จำกัด</td>\n",
       "      <td>158,176,099,976.45</td>\n",
       "    </tr>\n",
       "    <tr>\n",
       "      <th>3</th>\n",
       "      <td>4</td>\n",
       "      <td>0105559104085</td>\n",
       "      <td>เบสตั้น โกลด์ เทรดดิ้ง จำกัด</td>\n",
       "      <td>147,948,566,628.50</td>\n",
       "    </tr>\n",
       "    <tr>\n",
       "      <th>4</th>\n",
       "      <td>5</td>\n",
       "      <td>0105559166552</td>\n",
       "      <td>วี อาร์ เค เพาเวอร์โกลด์ จำกัด</td>\n",
       "      <td>86,145,044,444.28</td>\n",
       "    </tr>\n",
       "  </tbody>\n",
       "</table>\n",
       "</div>"
      ],
      "text/plain": [
       "  ลำดับ     เลขทะเบียน                   ชื่อนิติบุคคล     รายได้รวม (บาท)\n",
       "0     1  0105554051200   อินเตอร์โกลด์ โกลด์เทรด จำกัด  483,506,763,726.39\n",
       "1     2  0105553020335          ออโรร่า เทรดดิ้ง จำกัด  316,626,093,760.71\n",
       "2     3  0105546153732                  ออสสิริส จำกัด  158,176,099,976.45\n",
       "3     4  0105559104085    เบสตั้น โกลด์ เทรดดิ้ง จำกัด  147,948,566,628.50\n",
       "4     5  0105559166552  วี อาร์ เค เพาเวอร์โกลด์ จำกัด   86,145,044,444.28"
      ]
     },
     "execution_count": 33,
     "metadata": {},
     "output_type": "execute_result"
    }
   ],
   "source": [
    "df.head()"
   ]
  },
  {
   "cell_type": "code",
   "execution_count": 34,
   "metadata": {},
   "outputs": [
    {
     "data": {
      "text/plain": [
       "ลำดับ              object\n",
       "เลขทะเบียน         object\n",
       "ชื่อนิติบุคคล      object\n",
       "รายได้รวม (บาท)    object\n",
       "dtype: object"
      ]
     },
     "execution_count": 34,
     "metadata": {},
     "output_type": "execute_result"
    }
   ],
   "source": [
    "df.dtypes"
   ]
  },
  {
   "cell_type": "code",
   "execution_count": 35,
   "metadata": {},
   "outputs": [],
   "source": [
    "# Remove commas and convert to integer\n",
    "df['รายได้รวม (บาท)'] = df['รายได้รวม (บาท)'].str.replace(',', '').astype(float)"
   ]
  },
  {
   "cell_type": "code",
   "execution_count": 36,
   "metadata": {},
   "outputs": [
    {
     "data": {
      "text/plain": [
       "ลำดับ               object\n",
       "เลขทะเบียน          object\n",
       "ชื่อนิติบุคคล       object\n",
       "รายได้รวม (บาท)    float64\n",
       "dtype: object"
      ]
     },
     "execution_count": 36,
     "metadata": {},
     "output_type": "execute_result"
    }
   ],
   "source": [
    "df.dtypes"
   ]
  },
  {
   "cell_type": "code",
   "execution_count": 37,
   "metadata": {},
   "outputs": [],
   "source": [
    "df.to_csv('test.csv', index=False)"
   ]
  }
 ],
 "metadata": {
  "kernelspec": {
   "display_name": "base",
   "language": "python",
   "name": "python3"
  },
  "language_info": {
   "codemirror_mode": {
    "name": "ipython",
    "version": 3
   },
   "file_extension": ".py",
   "mimetype": "text/x-python",
   "name": "python",
   "nbconvert_exporter": "python",
   "pygments_lexer": "ipython3",
   "version": "3.9.13"
  }
 },
 "nbformat": 4,
 "nbformat_minor": 2
}
